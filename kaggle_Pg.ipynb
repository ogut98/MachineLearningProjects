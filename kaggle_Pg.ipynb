{
 "cells": [
  {
   "cell_type": "code",
   "execution_count": 1,
   "id": "initial_id",
   "metadata": {
    "collapsed": true,
    "ExecuteTime": {
     "end_time": "2024-02-13T14:30:16.935145200Z",
     "start_time": "2024-02-13T14:30:16.925268Z"
    }
   },
   "outputs": [],
   "source": [
    "import pandas as pd\n",
    "import matplotlib.pyplot as plt\n",
    "import seaborn as sns\n",
    "###############################################\n",
    "import warnings\n",
    "warnings.filterwarnings(\"ignore\")\n",
    "pd.set_option('display.max_rows', None)\n",
    "pd.set_option('display.max_columns', None)\n",
    "pd.set_option('display.width', 1000)"
   ]
  },
  {
   "cell_type": "code",
   "outputs": [
    {
     "data": {
      "text/plain": "   id  Gender        Age    Height      Weight family_history_with_overweight FAVC      FCVC       NCP        CAEC SMOKE      CH2O SCC       FAF       TUE       CALC                 MTRANS           NObeyesdad\n0   0    Male  24.443011  1.699998   81.669950                            yes  yes  2.000000  2.983297   Sometimes    no  2.763573  no  0.000000  0.976473  Sometimes  Public_Transportation  Overweight_Level_II\n1   1  Female  18.000000  1.560000   57.000000                            yes  yes  2.000000  3.000000  Frequently    no  2.000000  no  1.000000  1.000000         no             Automobile        Normal_Weight\n2   2  Female  18.000000  1.711460   50.165754                            yes  yes  1.880534  1.411685   Sometimes    no  1.910378  no  0.866045  1.673584         no  Public_Transportation  Insufficient_Weight\n3   3  Female  20.952737  1.710730  131.274851                            yes  yes  3.000000  3.000000   Sometimes    no  1.674061  no  1.467863  0.780199  Sometimes  Public_Transportation     Obesity_Type_III\n4   4    Male  31.641081  1.914186   93.798055                            yes  yes  2.679664  1.971472   Sometimes    no  1.979848  no  1.967973  0.931721  Sometimes  Public_Transportation  Overweight_Level_II",
      "text/html": "<div>\n<style scoped>\n    .dataframe tbody tr th:only-of-type {\n        vertical-align: middle;\n    }\n\n    .dataframe tbody tr th {\n        vertical-align: top;\n    }\n\n    .dataframe thead th {\n        text-align: right;\n    }\n</style>\n<table border=\"1\" class=\"dataframe\">\n  <thead>\n    <tr style=\"text-align: right;\">\n      <th></th>\n      <th>id</th>\n      <th>Gender</th>\n      <th>Age</th>\n      <th>Height</th>\n      <th>Weight</th>\n      <th>family_history_with_overweight</th>\n      <th>FAVC</th>\n      <th>FCVC</th>\n      <th>NCP</th>\n      <th>CAEC</th>\n      <th>SMOKE</th>\n      <th>CH2O</th>\n      <th>SCC</th>\n      <th>FAF</th>\n      <th>TUE</th>\n      <th>CALC</th>\n      <th>MTRANS</th>\n      <th>NObeyesdad</th>\n    </tr>\n  </thead>\n  <tbody>\n    <tr>\n      <th>0</th>\n      <td>0</td>\n      <td>Male</td>\n      <td>24.443011</td>\n      <td>1.699998</td>\n      <td>81.669950</td>\n      <td>yes</td>\n      <td>yes</td>\n      <td>2.000000</td>\n      <td>2.983297</td>\n      <td>Sometimes</td>\n      <td>no</td>\n      <td>2.763573</td>\n      <td>no</td>\n      <td>0.000000</td>\n      <td>0.976473</td>\n      <td>Sometimes</td>\n      <td>Public_Transportation</td>\n      <td>Overweight_Level_II</td>\n    </tr>\n    <tr>\n      <th>1</th>\n      <td>1</td>\n      <td>Female</td>\n      <td>18.000000</td>\n      <td>1.560000</td>\n      <td>57.000000</td>\n      <td>yes</td>\n      <td>yes</td>\n      <td>2.000000</td>\n      <td>3.000000</td>\n      <td>Frequently</td>\n      <td>no</td>\n      <td>2.000000</td>\n      <td>no</td>\n      <td>1.000000</td>\n      <td>1.000000</td>\n      <td>no</td>\n      <td>Automobile</td>\n      <td>Normal_Weight</td>\n    </tr>\n    <tr>\n      <th>2</th>\n      <td>2</td>\n      <td>Female</td>\n      <td>18.000000</td>\n      <td>1.711460</td>\n      <td>50.165754</td>\n      <td>yes</td>\n      <td>yes</td>\n      <td>1.880534</td>\n      <td>1.411685</td>\n      <td>Sometimes</td>\n      <td>no</td>\n      <td>1.910378</td>\n      <td>no</td>\n      <td>0.866045</td>\n      <td>1.673584</td>\n      <td>no</td>\n      <td>Public_Transportation</td>\n      <td>Insufficient_Weight</td>\n    </tr>\n    <tr>\n      <th>3</th>\n      <td>3</td>\n      <td>Female</td>\n      <td>20.952737</td>\n      <td>1.710730</td>\n      <td>131.274851</td>\n      <td>yes</td>\n      <td>yes</td>\n      <td>3.000000</td>\n      <td>3.000000</td>\n      <td>Sometimes</td>\n      <td>no</td>\n      <td>1.674061</td>\n      <td>no</td>\n      <td>1.467863</td>\n      <td>0.780199</td>\n      <td>Sometimes</td>\n      <td>Public_Transportation</td>\n      <td>Obesity_Type_III</td>\n    </tr>\n    <tr>\n      <th>4</th>\n      <td>4</td>\n      <td>Male</td>\n      <td>31.641081</td>\n      <td>1.914186</td>\n      <td>93.798055</td>\n      <td>yes</td>\n      <td>yes</td>\n      <td>2.679664</td>\n      <td>1.971472</td>\n      <td>Sometimes</td>\n      <td>no</td>\n      <td>1.979848</td>\n      <td>no</td>\n      <td>1.967973</td>\n      <td>0.931721</td>\n      <td>Sometimes</td>\n      <td>Public_Transportation</td>\n      <td>Overweight_Level_II</td>\n    </tr>\n  </tbody>\n</table>\n</div>"
     },
     "execution_count": 49,
     "metadata": {},
     "output_type": "execute_result"
    }
   ],
   "source": [
    "df_train = pd.read_csv(\"train.csv\")\n",
    "df_test = pd.read_csv(\"test.csv\")\n",
    "df_train.head()"
   ],
   "metadata": {
    "collapsed": false,
    "ExecuteTime": {
     "end_time": "2024-02-13T14:54:12.614982300Z",
     "start_time": "2024-02-13T14:54:12.531435Z"
    }
   },
   "id": "8452cd53550f7464",
   "execution_count": 49
  },
  {
   "cell_type": "code",
   "outputs": [
    {
     "data": {
      "text/plain": "Index(['id', 'Gender', 'Age', 'Height', 'Weight', 'family_history_with_overweight', 'FAVC', 'FCVC', 'NCP', 'CAEC', 'SMOKE', 'CH2O', 'SCC', 'FAF', 'TUE', 'CALC', 'MTRANS', 'NObeyesdad'], dtype='object')"
     },
     "execution_count": 3,
     "metadata": {},
     "output_type": "execute_result"
    }
   ],
   "source": [
    "df_train.columns"
   ],
   "metadata": {
    "collapsed": false,
    "ExecuteTime": {
     "end_time": "2024-02-13T14:30:23.755120Z",
     "start_time": "2024-02-13T14:30:23.727583200Z"
    }
   },
   "id": "bcb88fa8f2fa5aa2",
   "execution_count": 3
  },
  {
   "cell_type": "code",
   "outputs": [],
   "source": [
    "df_train = df_train.rename(columns={'FAVC': 'High_Calorie_Freq'\n",
    "                                ,'FCVC': 'Vegetable_Freq',\n",
    "                                  'NCP':'Main_Meals_No',\n",
    "                                  'CAEC':'Eat_Between_Meals',\n",
    "                                  'CH2O':'Water_Consumption',\n",
    "                                  'FAF':'Physical_Activitiy_Freq',\n",
    "                                  'TUE':'Time_Using_Devices',\n",
    "                                  'MTRANS':'Transportation_Used',\n",
    "                                  'CALC':'Alcohol_Consumption'})"
   ],
   "metadata": {
    "collapsed": false,
    "ExecuteTime": {
     "end_time": "2024-02-13T14:54:25.428696300Z",
     "start_time": "2024-02-13T14:54:25.412004900Z"
    }
   },
   "id": "12ba9b210a0bd524",
   "execution_count": 50
  },
  {
   "cell_type": "code",
   "outputs": [
    {
     "data": {
      "text/plain": "Index(['id', 'Gender', 'Age', 'Height', 'Weight', 'family_history_with_overweight', 'High_Calorie_Freq', 'Vegetable_Freq', 'Main_Meals_No', 'Eat_Between_Meals', 'SMOKE', 'Water_Consumption', 'SCC', 'Physical_Activitiy_Freq', 'Time_Using_Devices', 'Alcohol_Consumption', 'Transportation_Used', 'NObeyesdad'], dtype='object')"
     },
     "execution_count": 5,
     "metadata": {},
     "output_type": "execute_result"
    }
   ],
   "source": [
    "df_train.columns"
   ],
   "metadata": {
    "collapsed": false,
    "ExecuteTime": {
     "end_time": "2024-02-13T14:30:33.828488200Z",
     "start_time": "2024-02-13T14:30:33.815157700Z"
    }
   },
   "id": "5b4279608a126c4",
   "execution_count": 5
  },
  {
   "cell_type": "code",
   "outputs": [
    {
     "data": {
      "text/plain": "SCC\nno     20071\nyes      687\nName: count, dtype: int64"
     },
     "execution_count": 6,
     "metadata": {},
     "output_type": "execute_result"
    }
   ],
   "source": [
    "df_train['SCC'].value_counts()"
   ],
   "metadata": {
    "collapsed": false,
    "ExecuteTime": {
     "end_time": "2024-02-13T14:30:38.592477500Z",
     "start_time": "2024-02-13T14:30:38.578733500Z"
    }
   },
   "id": "924396489ee46f3a",
   "execution_count": 6
  },
  {
   "cell_type": "code",
   "outputs": [],
   "source": [
    "df_train = df_train.drop('SCC', axis=1)\n",
    "df_train.head()"
   ],
   "metadata": {
    "collapsed": false,
    "ExecuteTime": {
     "end_time": "2024-02-13T14:54:39.292934800Z",
     "start_time": "2024-02-13T14:54:39.275004200Z"
    }
   },
   "id": "3c3de700630a3598",
   "execution_count": 51
  },
  {
   "cell_type": "code",
   "outputs": [],
   "source": [
    "df_train.columns"
   ],
   "metadata": {
    "collapsed": false,
    "ExecuteTime": {
     "end_time": "2024-02-13T14:54:52.480329900Z",
     "start_time": "2024-02-13T14:54:52.462304200Z"
    }
   },
   "id": "13ae9095cdb58849",
   "execution_count": 51
  },
  {
   "cell_type": "code",
   "outputs": [],
   "source": [
    "df_test['CALC'] = df_test['CALC'].replace('Always', 'Frequently')"
   ],
   "metadata": {
    "collapsed": false,
    "ExecuteTime": {
     "end_time": "2024-02-13T14:55:20.443389100Z",
     "start_time": "2024-02-13T14:55:20.426333600Z"
    }
   },
   "id": "7c5ba5945ecffdc2",
   "execution_count": 53
  },
  {
   "cell_type": "code",
   "outputs": [
    {
     "data": {
      "text/plain": "Alcohol_Consumption\nSometimes     15066\nno             5163\nFrequently      529\nName: count, dtype: int64"
     },
     "execution_count": 54,
     "metadata": {},
     "output_type": "execute_result"
    }
   ],
   "source": [
    "df_train[\"Alcohol_Consumption\"].value_counts()"
   ],
   "metadata": {
    "collapsed": false,
    "ExecuteTime": {
     "end_time": "2024-02-13T14:55:33.648138100Z",
     "start_time": "2024-02-13T14:55:33.632394800Z"
    }
   },
   "id": "b290e880d17bd065",
   "execution_count": 54
  },
  {
   "cell_type": "code",
   "outputs": [
    {
     "data": {
      "text/plain": "   id  Gender        Age    Height      Weight family_history_with_overweight High_Calorie_Freq  Vegetable_Freq  Main_Meals_No Eat_Between_Meals SMOKE  Water_Consumption  Physical_Activitiy_Freq  Time_Using_Devices  Alcohol_Consumption    Transportation_Used           NObeyesdad\n0   0    Male  24.443011  1.699998   81.669950                            yes               yes        2.000000       2.983297         Sometimes    no           2.763573                 0.000000            0.976473                    1  Public_Transportation  Overweight_Level_II\n1   1  Female  18.000000  1.560000   57.000000                            yes               yes        2.000000       3.000000        Frequently    no           2.000000                 1.000000            1.000000                    0             Automobile        Normal_Weight\n2   2  Female  18.000000  1.711460   50.165754                            yes               yes        1.880534       1.411685         Sometimes    no           1.910378                 0.866045            1.673584                    0  Public_Transportation  Insufficient_Weight\n3   3  Female  20.952737  1.710730  131.274851                            yes               yes        3.000000       3.000000         Sometimes    no           1.674061                 1.467863            0.780199                    1  Public_Transportation     Obesity_Type_III\n4   4    Male  31.641081  1.914186   93.798055                            yes               yes        2.679664       1.971472         Sometimes    no           1.979848                 1.967973            0.931721                    1  Public_Transportation  Overweight_Level_II",
      "text/html": "<div>\n<style scoped>\n    .dataframe tbody tr th:only-of-type {\n        vertical-align: middle;\n    }\n\n    .dataframe tbody tr th {\n        vertical-align: top;\n    }\n\n    .dataframe thead th {\n        text-align: right;\n    }\n</style>\n<table border=\"1\" class=\"dataframe\">\n  <thead>\n    <tr style=\"text-align: right;\">\n      <th></th>\n      <th>id</th>\n      <th>Gender</th>\n      <th>Age</th>\n      <th>Height</th>\n      <th>Weight</th>\n      <th>family_history_with_overweight</th>\n      <th>High_Calorie_Freq</th>\n      <th>Vegetable_Freq</th>\n      <th>Main_Meals_No</th>\n      <th>Eat_Between_Meals</th>\n      <th>SMOKE</th>\n      <th>Water_Consumption</th>\n      <th>Physical_Activitiy_Freq</th>\n      <th>Time_Using_Devices</th>\n      <th>Alcohol_Consumption</th>\n      <th>Transportation_Used</th>\n      <th>NObeyesdad</th>\n    </tr>\n  </thead>\n  <tbody>\n    <tr>\n      <th>0</th>\n      <td>0</td>\n      <td>Male</td>\n      <td>24.443011</td>\n      <td>1.699998</td>\n      <td>81.669950</td>\n      <td>yes</td>\n      <td>yes</td>\n      <td>2.000000</td>\n      <td>2.983297</td>\n      <td>Sometimes</td>\n      <td>no</td>\n      <td>2.763573</td>\n      <td>0.000000</td>\n      <td>0.976473</td>\n      <td>1</td>\n      <td>Public_Transportation</td>\n      <td>Overweight_Level_II</td>\n    </tr>\n    <tr>\n      <th>1</th>\n      <td>1</td>\n      <td>Female</td>\n      <td>18.000000</td>\n      <td>1.560000</td>\n      <td>57.000000</td>\n      <td>yes</td>\n      <td>yes</td>\n      <td>2.000000</td>\n      <td>3.000000</td>\n      <td>Frequently</td>\n      <td>no</td>\n      <td>2.000000</td>\n      <td>1.000000</td>\n      <td>1.000000</td>\n      <td>0</td>\n      <td>Automobile</td>\n      <td>Normal_Weight</td>\n    </tr>\n    <tr>\n      <th>2</th>\n      <td>2</td>\n      <td>Female</td>\n      <td>18.000000</td>\n      <td>1.711460</td>\n      <td>50.165754</td>\n      <td>yes</td>\n      <td>yes</td>\n      <td>1.880534</td>\n      <td>1.411685</td>\n      <td>Sometimes</td>\n      <td>no</td>\n      <td>1.910378</td>\n      <td>0.866045</td>\n      <td>1.673584</td>\n      <td>0</td>\n      <td>Public_Transportation</td>\n      <td>Insufficient_Weight</td>\n    </tr>\n    <tr>\n      <th>3</th>\n      <td>3</td>\n      <td>Female</td>\n      <td>20.952737</td>\n      <td>1.710730</td>\n      <td>131.274851</td>\n      <td>yes</td>\n      <td>yes</td>\n      <td>3.000000</td>\n      <td>3.000000</td>\n      <td>Sometimes</td>\n      <td>no</td>\n      <td>1.674061</td>\n      <td>1.467863</td>\n      <td>0.780199</td>\n      <td>1</td>\n      <td>Public_Transportation</td>\n      <td>Obesity_Type_III</td>\n    </tr>\n    <tr>\n      <th>4</th>\n      <td>4</td>\n      <td>Male</td>\n      <td>31.641081</td>\n      <td>1.914186</td>\n      <td>93.798055</td>\n      <td>yes</td>\n      <td>yes</td>\n      <td>2.679664</td>\n      <td>1.971472</td>\n      <td>Sometimes</td>\n      <td>no</td>\n      <td>1.979848</td>\n      <td>1.967973</td>\n      <td>0.931721</td>\n      <td>1</td>\n      <td>Public_Transportation</td>\n      <td>Overweight_Level_II</td>\n    </tr>\n  </tbody>\n</table>\n</div>"
     },
     "execution_count": 55,
     "metadata": {},
     "output_type": "execute_result"
    }
   ],
   "source": [
    "alcohol_mapping = {'no': 0, 'Sometimes': 1, 'Frequently': 2}\n",
    "df_train['Alcohol_Consumption'] = df_train['Alcohol_Consumption'].map(alcohol_mapping)\n",
    "df_train.head()"
   ],
   "metadata": {
    "collapsed": false,
    "ExecuteTime": {
     "end_time": "2024-02-13T14:55:50.198499800Z",
     "start_time": "2024-02-13T14:55:50.162434600Z"
    }
   },
   "id": "6b46ebe11938156",
   "execution_count": 55
  },
  {
   "cell_type": "code",
   "outputs": [
    {
     "data": {
      "text/plain": "Series([], Name: count, dtype: int64)"
     },
     "execution_count": 56,
     "metadata": {},
     "output_type": "execute_result"
    }
   ],
   "source": [
    "df_train[\"Alcohol_Consumption\"].value_counts()"
   ],
   "metadata": {
    "collapsed": false,
    "ExecuteTime": {
     "end_time": "2024-02-13T14:56:03.517238600Z",
     "start_time": "2024-02-13T14:56:03.500934100Z"
    }
   },
   "id": "1a49a3791df752e4",
   "execution_count": 56
  },
  {
   "cell_type": "code",
   "outputs": [],
   "source": [
    "#Feature Extraction\n",
    "\n",
    "df_train['BMI'] = df_train['Weight'] / (df_train['Height']) ** 2\n",
    "df_train['Hydration_Ratio'] = (df_train['Water_Consumption'] / df_train['Weight'])*100\n",
    "df_train['Technology_Usage_Ratio'] = (df_train['Time_Using_Devices'] / df_train['Age'])*100\n",
    "df_train['Alcohol_Consumption_Ratio'] = (df_train['Alcohol_Consumption'] / df_train['Age'])*100"
   ],
   "metadata": {
    "collapsed": false,
    "ExecuteTime": {
     "end_time": "2024-02-13T14:34:54.240670700Z",
     "start_time": "2024-02-13T14:34:54.202710500Z"
    }
   },
   "id": "24606dba3705729d",
   "execution_count": 19
  },
  {
   "cell_type": "code",
   "outputs": [
    {
     "data": {
      "text/plain": "   id  Gender        Age    Height      Weight family_history_with_overweight  High_Calorie_Freq  Vegetable_Freq  Main_Meals_No Eat_Between_Meals SMOKE  Water_Consumption  Physical_Activitiy_Freq  Time_Using_Devices  Alcohol_Consumption    Transportation_Used           NObeyesdad        BMI  Hydration_Ratio  Technology_Usage_Ratio  Alcohol_Consumption_Ratio\n0   0    Male  24.443011  1.699998   81.669950                            yes                  1        2.000000       2.983297         Sometimes    no           2.763573                 0.000000            0.976473                    1  Public_Transportation  Overweight_Level_II  28.259565         3.383831                3.994897                   4.091149\n1   1  Female  18.000000  1.560000   57.000000                            yes                  1        2.000000       3.000000        Frequently    no           2.000000                 1.000000            1.000000                    0             Automobile        Normal_Weight  23.422091         3.508772                5.555556                   0.000000\n2   2  Female  18.000000  1.711460   50.165754                            yes                  1        1.880534       1.411685         Sometimes    no           1.910378                 0.866045            1.673584                    0  Public_Transportation  Insufficient_Weight  17.126706         3.808132                9.297689                   0.000000\n3   3  Female  20.952737  1.710730  131.274851                            yes                  1        3.000000       3.000000         Sometimes    no           1.674061                 1.467863            0.780199                    1  Public_Transportation     Obesity_Type_III  44.855798         1.275234                3.723614                   4.772646\n4   4    Male  31.641081  1.914186   93.798055                            yes                  1        2.679664       1.971472         Sometimes    no           1.979848                 1.967973            0.931721                    1  Public_Transportation  Overweight_Level_II  25.599151         2.110756                2.944656                   3.160448",
      "text/html": "<div>\n<style scoped>\n    .dataframe tbody tr th:only-of-type {\n        vertical-align: middle;\n    }\n\n    .dataframe tbody tr th {\n        vertical-align: top;\n    }\n\n    .dataframe thead th {\n        text-align: right;\n    }\n</style>\n<table border=\"1\" class=\"dataframe\">\n  <thead>\n    <tr style=\"text-align: right;\">\n      <th></th>\n      <th>id</th>\n      <th>Gender</th>\n      <th>Age</th>\n      <th>Height</th>\n      <th>Weight</th>\n      <th>family_history_with_overweight</th>\n      <th>High_Calorie_Freq</th>\n      <th>Vegetable_Freq</th>\n      <th>Main_Meals_No</th>\n      <th>Eat_Between_Meals</th>\n      <th>SMOKE</th>\n      <th>Water_Consumption</th>\n      <th>Physical_Activitiy_Freq</th>\n      <th>Time_Using_Devices</th>\n      <th>Alcohol_Consumption</th>\n      <th>Transportation_Used</th>\n      <th>NObeyesdad</th>\n      <th>BMI</th>\n      <th>Hydration_Ratio</th>\n      <th>Technology_Usage_Ratio</th>\n      <th>Alcohol_Consumption_Ratio</th>\n    </tr>\n  </thead>\n  <tbody>\n    <tr>\n      <th>0</th>\n      <td>0</td>\n      <td>Male</td>\n      <td>24.443011</td>\n      <td>1.699998</td>\n      <td>81.669950</td>\n      <td>yes</td>\n      <td>1</td>\n      <td>2.000000</td>\n      <td>2.983297</td>\n      <td>Sometimes</td>\n      <td>no</td>\n      <td>2.763573</td>\n      <td>0.000000</td>\n      <td>0.976473</td>\n      <td>1</td>\n      <td>Public_Transportation</td>\n      <td>Overweight_Level_II</td>\n      <td>28.259565</td>\n      <td>3.383831</td>\n      <td>3.994897</td>\n      <td>4.091149</td>\n    </tr>\n    <tr>\n      <th>1</th>\n      <td>1</td>\n      <td>Female</td>\n      <td>18.000000</td>\n      <td>1.560000</td>\n      <td>57.000000</td>\n      <td>yes</td>\n      <td>1</td>\n      <td>2.000000</td>\n      <td>3.000000</td>\n      <td>Frequently</td>\n      <td>no</td>\n      <td>2.000000</td>\n      <td>1.000000</td>\n      <td>1.000000</td>\n      <td>0</td>\n      <td>Automobile</td>\n      <td>Normal_Weight</td>\n      <td>23.422091</td>\n      <td>3.508772</td>\n      <td>5.555556</td>\n      <td>0.000000</td>\n    </tr>\n    <tr>\n      <th>2</th>\n      <td>2</td>\n      <td>Female</td>\n      <td>18.000000</td>\n      <td>1.711460</td>\n      <td>50.165754</td>\n      <td>yes</td>\n      <td>1</td>\n      <td>1.880534</td>\n      <td>1.411685</td>\n      <td>Sometimes</td>\n      <td>no</td>\n      <td>1.910378</td>\n      <td>0.866045</td>\n      <td>1.673584</td>\n      <td>0</td>\n      <td>Public_Transportation</td>\n      <td>Insufficient_Weight</td>\n      <td>17.126706</td>\n      <td>3.808132</td>\n      <td>9.297689</td>\n      <td>0.000000</td>\n    </tr>\n    <tr>\n      <th>3</th>\n      <td>3</td>\n      <td>Female</td>\n      <td>20.952737</td>\n      <td>1.710730</td>\n      <td>131.274851</td>\n      <td>yes</td>\n      <td>1</td>\n      <td>3.000000</td>\n      <td>3.000000</td>\n      <td>Sometimes</td>\n      <td>no</td>\n      <td>1.674061</td>\n      <td>1.467863</td>\n      <td>0.780199</td>\n      <td>1</td>\n      <td>Public_Transportation</td>\n      <td>Obesity_Type_III</td>\n      <td>44.855798</td>\n      <td>1.275234</td>\n      <td>3.723614</td>\n      <td>4.772646</td>\n    </tr>\n    <tr>\n      <th>4</th>\n      <td>4</td>\n      <td>Male</td>\n      <td>31.641081</td>\n      <td>1.914186</td>\n      <td>93.798055</td>\n      <td>yes</td>\n      <td>1</td>\n      <td>2.679664</td>\n      <td>1.971472</td>\n      <td>Sometimes</td>\n      <td>no</td>\n      <td>1.979848</td>\n      <td>1.967973</td>\n      <td>0.931721</td>\n      <td>1</td>\n      <td>Public_Transportation</td>\n      <td>Overweight_Level_II</td>\n      <td>25.599151</td>\n      <td>2.110756</td>\n      <td>2.944656</td>\n      <td>3.160448</td>\n    </tr>\n  </tbody>\n</table>\n</div>"
     },
     "execution_count": 20,
     "metadata": {},
     "output_type": "execute_result"
    }
   ],
   "source": [
    "df_train[\"High_Calorie_Freq\"].value_counts()\n",
    "\n",
    "calorie_mapping = {'no': 0, 'yes': 1}\n",
    "df_train['High_Calorie_Freq'] = df_train['High_Calorie_Freq'].map(calorie_mapping)\n",
    "df_train.head()"
   ],
   "metadata": {
    "collapsed": false,
    "ExecuteTime": {
     "end_time": "2024-02-13T14:35:00.695111400Z",
     "start_time": "2024-02-13T14:35:00.639691800Z"
    }
   },
   "id": "d854af869c4dc92d",
   "execution_count": 20
  },
  {
   "cell_type": "code",
   "outputs": [
    {
     "data": {
      "text/plain": "   id  Gender        Age    Height      Weight family_history_with_overweight  High_Calorie_Freq  Vegetable_Freq  Main_Meals_No  Eat_Between_Meals SMOKE  Water_Consumption  Physical_Activitiy_Freq  Time_Using_Devices  Alcohol_Consumption    Transportation_Used           NObeyesdad        BMI  Hydration_Ratio  Technology_Usage_Ratio  Alcohol_Consumption_Ratio\n0   0    Male  24.443011  1.699998   81.669950                            yes                  1        2.000000       2.983297                1.0    no           2.763573                 0.000000            0.976473                    1  Public_Transportation  Overweight_Level_II  28.259565         3.383831                3.994897                   4.091149\n1   1  Female  18.000000  1.560000   57.000000                            yes                  1        2.000000       3.000000                2.0    no           2.000000                 1.000000            1.000000                    0             Automobile        Normal_Weight  23.422091         3.508772                5.555556                   0.000000\n2   2  Female  18.000000  1.711460   50.165754                            yes                  1        1.880534       1.411685                1.0    no           1.910378                 0.866045            1.673584                    0  Public_Transportation  Insufficient_Weight  17.126706         3.808132                9.297689                   0.000000\n3   3  Female  20.952737  1.710730  131.274851                            yes                  1        3.000000       3.000000                1.0    no           1.674061                 1.467863            0.780199                    1  Public_Transportation     Obesity_Type_III  44.855798         1.275234                3.723614                   4.772646\n4   4    Male  31.641081  1.914186   93.798055                            yes                  1        2.679664       1.971472                1.0    no           1.979848                 1.967973            0.931721                    1  Public_Transportation  Overweight_Level_II  25.599151         2.110756                2.944656                   3.160448",
      "text/html": "<div>\n<style scoped>\n    .dataframe tbody tr th:only-of-type {\n        vertical-align: middle;\n    }\n\n    .dataframe tbody tr th {\n        vertical-align: top;\n    }\n\n    .dataframe thead th {\n        text-align: right;\n    }\n</style>\n<table border=\"1\" class=\"dataframe\">\n  <thead>\n    <tr style=\"text-align: right;\">\n      <th></th>\n      <th>id</th>\n      <th>Gender</th>\n      <th>Age</th>\n      <th>Height</th>\n      <th>Weight</th>\n      <th>family_history_with_overweight</th>\n      <th>High_Calorie_Freq</th>\n      <th>Vegetable_Freq</th>\n      <th>Main_Meals_No</th>\n      <th>Eat_Between_Meals</th>\n      <th>SMOKE</th>\n      <th>Water_Consumption</th>\n      <th>Physical_Activitiy_Freq</th>\n      <th>Time_Using_Devices</th>\n      <th>Alcohol_Consumption</th>\n      <th>Transportation_Used</th>\n      <th>NObeyesdad</th>\n      <th>BMI</th>\n      <th>Hydration_Ratio</th>\n      <th>Technology_Usage_Ratio</th>\n      <th>Alcohol_Consumption_Ratio</th>\n    </tr>\n  </thead>\n  <tbody>\n    <tr>\n      <th>0</th>\n      <td>0</td>\n      <td>Male</td>\n      <td>24.443011</td>\n      <td>1.699998</td>\n      <td>81.669950</td>\n      <td>yes</td>\n      <td>1</td>\n      <td>2.000000</td>\n      <td>2.983297</td>\n      <td>1.0</td>\n      <td>no</td>\n      <td>2.763573</td>\n      <td>0.000000</td>\n      <td>0.976473</td>\n      <td>1</td>\n      <td>Public_Transportation</td>\n      <td>Overweight_Level_II</td>\n      <td>28.259565</td>\n      <td>3.383831</td>\n      <td>3.994897</td>\n      <td>4.091149</td>\n    </tr>\n    <tr>\n      <th>1</th>\n      <td>1</td>\n      <td>Female</td>\n      <td>18.000000</td>\n      <td>1.560000</td>\n      <td>57.000000</td>\n      <td>yes</td>\n      <td>1</td>\n      <td>2.000000</td>\n      <td>3.000000</td>\n      <td>2.0</td>\n      <td>no</td>\n      <td>2.000000</td>\n      <td>1.000000</td>\n      <td>1.000000</td>\n      <td>0</td>\n      <td>Automobile</td>\n      <td>Normal_Weight</td>\n      <td>23.422091</td>\n      <td>3.508772</td>\n      <td>5.555556</td>\n      <td>0.000000</td>\n    </tr>\n    <tr>\n      <th>2</th>\n      <td>2</td>\n      <td>Female</td>\n      <td>18.000000</td>\n      <td>1.711460</td>\n      <td>50.165754</td>\n      <td>yes</td>\n      <td>1</td>\n      <td>1.880534</td>\n      <td>1.411685</td>\n      <td>1.0</td>\n      <td>no</td>\n      <td>1.910378</td>\n      <td>0.866045</td>\n      <td>1.673584</td>\n      <td>0</td>\n      <td>Public_Transportation</td>\n      <td>Insufficient_Weight</td>\n      <td>17.126706</td>\n      <td>3.808132</td>\n      <td>9.297689</td>\n      <td>0.000000</td>\n    </tr>\n    <tr>\n      <th>3</th>\n      <td>3</td>\n      <td>Female</td>\n      <td>20.952737</td>\n      <td>1.710730</td>\n      <td>131.274851</td>\n      <td>yes</td>\n      <td>1</td>\n      <td>3.000000</td>\n      <td>3.000000</td>\n      <td>1.0</td>\n      <td>no</td>\n      <td>1.674061</td>\n      <td>1.467863</td>\n      <td>0.780199</td>\n      <td>1</td>\n      <td>Public_Transportation</td>\n      <td>Obesity_Type_III</td>\n      <td>44.855798</td>\n      <td>1.275234</td>\n      <td>3.723614</td>\n      <td>4.772646</td>\n    </tr>\n    <tr>\n      <th>4</th>\n      <td>4</td>\n      <td>Male</td>\n      <td>31.641081</td>\n      <td>1.914186</td>\n      <td>93.798055</td>\n      <td>yes</td>\n      <td>1</td>\n      <td>2.679664</td>\n      <td>1.971472</td>\n      <td>1.0</td>\n      <td>no</td>\n      <td>1.979848</td>\n      <td>1.967973</td>\n      <td>0.931721</td>\n      <td>1</td>\n      <td>Public_Transportation</td>\n      <td>Overweight_Level_II</td>\n      <td>25.599151</td>\n      <td>2.110756</td>\n      <td>2.944656</td>\n      <td>3.160448</td>\n    </tr>\n  </tbody>\n</table>\n</div>"
     },
     "execution_count": 21,
     "metadata": {},
     "output_type": "execute_result"
    }
   ],
   "source": [
    "df_train[\"Eat_Between_Meals\"].value_counts()\n",
    "\n",
    "df_train['Eat_Between_Meals'] = df_train['Eat_Between_Meals'].map(alcohol_mapping)\n",
    "df_train.head()"
   ],
   "metadata": {
    "collapsed": false,
    "ExecuteTime": {
     "end_time": "2024-02-13T14:35:08.113630100Z",
     "start_time": "2024-02-13T14:35:08.062682500Z"
    }
   },
   "id": "a038c12da9005b3c",
   "execution_count": 21
  },
  {
   "cell_type": "code",
   "outputs": [
    {
     "data": {
      "text/plain": "   id  Gender        Age    Height      Weight family_history_with_overweight  High_Calorie_Freq  Vegetable_Freq  Main_Meals_No  Eat_Between_Meals  SMOKE  Water_Consumption  Physical_Activitiy_Freq  Time_Using_Devices  Alcohol_Consumption    Transportation_Used           NObeyesdad        BMI  Hydration_Ratio  Technology_Usage_Ratio  Alcohol_Consumption_Ratio\n0   0    Male  24.443011  1.699998   81.669950                            yes                  1        2.000000       2.983297                1.0      0           2.763573                 0.000000            0.976473                    1  Public_Transportation  Overweight_Level_II  28.259565         3.383831                3.994897                   4.091149\n1   1  Female  18.000000  1.560000   57.000000                            yes                  1        2.000000       3.000000                2.0      0           2.000000                 1.000000            1.000000                    0             Automobile        Normal_Weight  23.422091         3.508772                5.555556                   0.000000\n2   2  Female  18.000000  1.711460   50.165754                            yes                  1        1.880534       1.411685                1.0      0           1.910378                 0.866045            1.673584                    0  Public_Transportation  Insufficient_Weight  17.126706         3.808132                9.297689                   0.000000\n3   3  Female  20.952737  1.710730  131.274851                            yes                  1        3.000000       3.000000                1.0      0           1.674061                 1.467863            0.780199                    1  Public_Transportation     Obesity_Type_III  44.855798         1.275234                3.723614                   4.772646\n4   4    Male  31.641081  1.914186   93.798055                            yes                  1        2.679664       1.971472                1.0      0           1.979848                 1.967973            0.931721                    1  Public_Transportation  Overweight_Level_II  25.599151         2.110756                2.944656                   3.160448",
      "text/html": "<div>\n<style scoped>\n    .dataframe tbody tr th:only-of-type {\n        vertical-align: middle;\n    }\n\n    .dataframe tbody tr th {\n        vertical-align: top;\n    }\n\n    .dataframe thead th {\n        text-align: right;\n    }\n</style>\n<table border=\"1\" class=\"dataframe\">\n  <thead>\n    <tr style=\"text-align: right;\">\n      <th></th>\n      <th>id</th>\n      <th>Gender</th>\n      <th>Age</th>\n      <th>Height</th>\n      <th>Weight</th>\n      <th>family_history_with_overweight</th>\n      <th>High_Calorie_Freq</th>\n      <th>Vegetable_Freq</th>\n      <th>Main_Meals_No</th>\n      <th>Eat_Between_Meals</th>\n      <th>SMOKE</th>\n      <th>Water_Consumption</th>\n      <th>Physical_Activitiy_Freq</th>\n      <th>Time_Using_Devices</th>\n      <th>Alcohol_Consumption</th>\n      <th>Transportation_Used</th>\n      <th>NObeyesdad</th>\n      <th>BMI</th>\n      <th>Hydration_Ratio</th>\n      <th>Technology_Usage_Ratio</th>\n      <th>Alcohol_Consumption_Ratio</th>\n    </tr>\n  </thead>\n  <tbody>\n    <tr>\n      <th>0</th>\n      <td>0</td>\n      <td>Male</td>\n      <td>24.443011</td>\n      <td>1.699998</td>\n      <td>81.669950</td>\n      <td>yes</td>\n      <td>1</td>\n      <td>2.000000</td>\n      <td>2.983297</td>\n      <td>1.0</td>\n      <td>0</td>\n      <td>2.763573</td>\n      <td>0.000000</td>\n      <td>0.976473</td>\n      <td>1</td>\n      <td>Public_Transportation</td>\n      <td>Overweight_Level_II</td>\n      <td>28.259565</td>\n      <td>3.383831</td>\n      <td>3.994897</td>\n      <td>4.091149</td>\n    </tr>\n    <tr>\n      <th>1</th>\n      <td>1</td>\n      <td>Female</td>\n      <td>18.000000</td>\n      <td>1.560000</td>\n      <td>57.000000</td>\n      <td>yes</td>\n      <td>1</td>\n      <td>2.000000</td>\n      <td>3.000000</td>\n      <td>2.0</td>\n      <td>0</td>\n      <td>2.000000</td>\n      <td>1.000000</td>\n      <td>1.000000</td>\n      <td>0</td>\n      <td>Automobile</td>\n      <td>Normal_Weight</td>\n      <td>23.422091</td>\n      <td>3.508772</td>\n      <td>5.555556</td>\n      <td>0.000000</td>\n    </tr>\n    <tr>\n      <th>2</th>\n      <td>2</td>\n      <td>Female</td>\n      <td>18.000000</td>\n      <td>1.711460</td>\n      <td>50.165754</td>\n      <td>yes</td>\n      <td>1</td>\n      <td>1.880534</td>\n      <td>1.411685</td>\n      <td>1.0</td>\n      <td>0</td>\n      <td>1.910378</td>\n      <td>0.866045</td>\n      <td>1.673584</td>\n      <td>0</td>\n      <td>Public_Transportation</td>\n      <td>Insufficient_Weight</td>\n      <td>17.126706</td>\n      <td>3.808132</td>\n      <td>9.297689</td>\n      <td>0.000000</td>\n    </tr>\n    <tr>\n      <th>3</th>\n      <td>3</td>\n      <td>Female</td>\n      <td>20.952737</td>\n      <td>1.710730</td>\n      <td>131.274851</td>\n      <td>yes</td>\n      <td>1</td>\n      <td>3.000000</td>\n      <td>3.000000</td>\n      <td>1.0</td>\n      <td>0</td>\n      <td>1.674061</td>\n      <td>1.467863</td>\n      <td>0.780199</td>\n      <td>1</td>\n      <td>Public_Transportation</td>\n      <td>Obesity_Type_III</td>\n      <td>44.855798</td>\n      <td>1.275234</td>\n      <td>3.723614</td>\n      <td>4.772646</td>\n    </tr>\n    <tr>\n      <th>4</th>\n      <td>4</td>\n      <td>Male</td>\n      <td>31.641081</td>\n      <td>1.914186</td>\n      <td>93.798055</td>\n      <td>yes</td>\n      <td>1</td>\n      <td>2.679664</td>\n      <td>1.971472</td>\n      <td>1.0</td>\n      <td>0</td>\n      <td>1.979848</td>\n      <td>1.967973</td>\n      <td>0.931721</td>\n      <td>1</td>\n      <td>Public_Transportation</td>\n      <td>Overweight_Level_II</td>\n      <td>25.599151</td>\n      <td>2.110756</td>\n      <td>2.944656</td>\n      <td>3.160448</td>\n    </tr>\n  </tbody>\n</table>\n</div>"
     },
     "execution_count": 22,
     "metadata": {},
     "output_type": "execute_result"
    }
   ],
   "source": [
    "df_train[\"SMOKE\"].value_counts()\n",
    "\n",
    "df_train['SMOKE'] = df_train['SMOKE'].map(calorie_mapping)\n",
    "df_train.head()"
   ],
   "metadata": {
    "collapsed": false,
    "ExecuteTime": {
     "end_time": "2024-02-13T14:35:14.939839400Z",
     "start_time": "2024-02-13T14:35:14.885875500Z"
    }
   },
   "id": "8d10ba1f212cb30a",
   "execution_count": 22
  },
  {
   "cell_type": "code",
   "outputs": [
    {
     "data": {
      "text/plain": "   id  Gender        Age    Height      Weight  family_history_with_overweight  High_Calorie_Freq  Vegetable_Freq  Main_Meals_No  Eat_Between_Meals  SMOKE  Water_Consumption  Physical_Activitiy_Freq  Time_Using_Devices  Alcohol_Consumption    Transportation_Used           NObeyesdad        BMI  Hydration_Ratio  Technology_Usage_Ratio  Alcohol_Consumption_Ratio\n0   0    Male  24.443011  1.699998   81.669950                               1                  1        2.000000       2.983297                1.0      0           2.763573                 0.000000            0.976473                    1  Public_Transportation  Overweight_Level_II  28.259565         3.383831                3.994897                   4.091149\n1   1  Female  18.000000  1.560000   57.000000                               1                  1        2.000000       3.000000                2.0      0           2.000000                 1.000000            1.000000                    0             Automobile        Normal_Weight  23.422091         3.508772                5.555556                   0.000000\n2   2  Female  18.000000  1.711460   50.165754                               1                  1        1.880534       1.411685                1.0      0           1.910378                 0.866045            1.673584                    0  Public_Transportation  Insufficient_Weight  17.126706         3.808132                9.297689                   0.000000\n3   3  Female  20.952737  1.710730  131.274851                               1                  1        3.000000       3.000000                1.0      0           1.674061                 1.467863            0.780199                    1  Public_Transportation     Obesity_Type_III  44.855798         1.275234                3.723614                   4.772646\n4   4    Male  31.641081  1.914186   93.798055                               1                  1        2.679664       1.971472                1.0      0           1.979848                 1.967973            0.931721                    1  Public_Transportation  Overweight_Level_II  25.599151         2.110756                2.944656                   3.160448",
      "text/html": "<div>\n<style scoped>\n    .dataframe tbody tr th:only-of-type {\n        vertical-align: middle;\n    }\n\n    .dataframe tbody tr th {\n        vertical-align: top;\n    }\n\n    .dataframe thead th {\n        text-align: right;\n    }\n</style>\n<table border=\"1\" class=\"dataframe\">\n  <thead>\n    <tr style=\"text-align: right;\">\n      <th></th>\n      <th>id</th>\n      <th>Gender</th>\n      <th>Age</th>\n      <th>Height</th>\n      <th>Weight</th>\n      <th>family_history_with_overweight</th>\n      <th>High_Calorie_Freq</th>\n      <th>Vegetable_Freq</th>\n      <th>Main_Meals_No</th>\n      <th>Eat_Between_Meals</th>\n      <th>SMOKE</th>\n      <th>Water_Consumption</th>\n      <th>Physical_Activitiy_Freq</th>\n      <th>Time_Using_Devices</th>\n      <th>Alcohol_Consumption</th>\n      <th>Transportation_Used</th>\n      <th>NObeyesdad</th>\n      <th>BMI</th>\n      <th>Hydration_Ratio</th>\n      <th>Technology_Usage_Ratio</th>\n      <th>Alcohol_Consumption_Ratio</th>\n    </tr>\n  </thead>\n  <tbody>\n    <tr>\n      <th>0</th>\n      <td>0</td>\n      <td>Male</td>\n      <td>24.443011</td>\n      <td>1.699998</td>\n      <td>81.669950</td>\n      <td>1</td>\n      <td>1</td>\n      <td>2.000000</td>\n      <td>2.983297</td>\n      <td>1.0</td>\n      <td>0</td>\n      <td>2.763573</td>\n      <td>0.000000</td>\n      <td>0.976473</td>\n      <td>1</td>\n      <td>Public_Transportation</td>\n      <td>Overweight_Level_II</td>\n      <td>28.259565</td>\n      <td>3.383831</td>\n      <td>3.994897</td>\n      <td>4.091149</td>\n    </tr>\n    <tr>\n      <th>1</th>\n      <td>1</td>\n      <td>Female</td>\n      <td>18.000000</td>\n      <td>1.560000</td>\n      <td>57.000000</td>\n      <td>1</td>\n      <td>1</td>\n      <td>2.000000</td>\n      <td>3.000000</td>\n      <td>2.0</td>\n      <td>0</td>\n      <td>2.000000</td>\n      <td>1.000000</td>\n      <td>1.000000</td>\n      <td>0</td>\n      <td>Automobile</td>\n      <td>Normal_Weight</td>\n      <td>23.422091</td>\n      <td>3.508772</td>\n      <td>5.555556</td>\n      <td>0.000000</td>\n    </tr>\n    <tr>\n      <th>2</th>\n      <td>2</td>\n      <td>Female</td>\n      <td>18.000000</td>\n      <td>1.711460</td>\n      <td>50.165754</td>\n      <td>1</td>\n      <td>1</td>\n      <td>1.880534</td>\n      <td>1.411685</td>\n      <td>1.0</td>\n      <td>0</td>\n      <td>1.910378</td>\n      <td>0.866045</td>\n      <td>1.673584</td>\n      <td>0</td>\n      <td>Public_Transportation</td>\n      <td>Insufficient_Weight</td>\n      <td>17.126706</td>\n      <td>3.808132</td>\n      <td>9.297689</td>\n      <td>0.000000</td>\n    </tr>\n    <tr>\n      <th>3</th>\n      <td>3</td>\n      <td>Female</td>\n      <td>20.952737</td>\n      <td>1.710730</td>\n      <td>131.274851</td>\n      <td>1</td>\n      <td>1</td>\n      <td>3.000000</td>\n      <td>3.000000</td>\n      <td>1.0</td>\n      <td>0</td>\n      <td>1.674061</td>\n      <td>1.467863</td>\n      <td>0.780199</td>\n      <td>1</td>\n      <td>Public_Transportation</td>\n      <td>Obesity_Type_III</td>\n      <td>44.855798</td>\n      <td>1.275234</td>\n      <td>3.723614</td>\n      <td>4.772646</td>\n    </tr>\n    <tr>\n      <th>4</th>\n      <td>4</td>\n      <td>Male</td>\n      <td>31.641081</td>\n      <td>1.914186</td>\n      <td>93.798055</td>\n      <td>1</td>\n      <td>1</td>\n      <td>2.679664</td>\n      <td>1.971472</td>\n      <td>1.0</td>\n      <td>0</td>\n      <td>1.979848</td>\n      <td>1.967973</td>\n      <td>0.931721</td>\n      <td>1</td>\n      <td>Public_Transportation</td>\n      <td>Overweight_Level_II</td>\n      <td>25.599151</td>\n      <td>2.110756</td>\n      <td>2.944656</td>\n      <td>3.160448</td>\n    </tr>\n  </tbody>\n</table>\n</div>"
     },
     "execution_count": 23,
     "metadata": {},
     "output_type": "execute_result"
    }
   ],
   "source": [
    "df_train[\"family_history_with_overweight\"].value_counts()\n",
    "\n",
    "df_train['family_history_with_overweight'] = df_train['family_history_with_overweight'].map(calorie_mapping)\n",
    "df_train.head()"
   ],
   "metadata": {
    "collapsed": false,
    "ExecuteTime": {
     "end_time": "2024-02-13T14:35:22.031239800Z",
     "start_time": "2024-02-13T14:35:22.004847Z"
    }
   },
   "id": "4ddd0d41f48043c6",
   "execution_count": 23
  },
  {
   "cell_type": "code",
   "outputs": [
    {
     "data": {
      "text/plain": "   id  Gender        Age    Height      Weight  family_history_with_overweight  High_Calorie_Freq  Vegetable_Freq  Main_Meals_No  Eat_Between_Meals  SMOKE  Water_Consumption  Physical_Activitiy_Freq  Time_Using_Devices  Alcohol_Consumption    Transportation_Used           NObeyesdad        BMI  Hydration_Ratio  Technology_Usage_Ratio  Alcohol_Consumption_Ratio  Transportation_Used_Ordinal_Encoded\n0   0    Male  24.443011  1.699998   81.669950                               1                  1        2.000000       2.983297                1.0      0           2.763573                 0.000000            0.976473                    1  Public_Transportation  Overweight_Level_II  28.259565         3.383831                3.994897                   4.091149                                    5\n1   1  Female  18.000000  1.560000   57.000000                               1                  1        2.000000       3.000000                2.0      0           2.000000                 1.000000            1.000000                    0             Automobile        Normal_Weight  23.422091         3.508772                5.555556                   0.000000                                    4\n2   2  Female  18.000000  1.711460   50.165754                               1                  1        1.880534       1.411685                1.0      0           1.910378                 0.866045            1.673584                    0  Public_Transportation  Insufficient_Weight  17.126706         3.808132                9.297689                   0.000000                                    5\n3   3  Female  20.952737  1.710730  131.274851                               1                  1        3.000000       3.000000                1.0      0           1.674061                 1.467863            0.780199                    1  Public_Transportation     Obesity_Type_III  44.855798         1.275234                3.723614                   4.772646                                    5\n4   4    Male  31.641081  1.914186   93.798055                               1                  1        2.679664       1.971472                1.0      0           1.979848                 1.967973            0.931721                    1  Public_Transportation  Overweight_Level_II  25.599151         2.110756                2.944656                   3.160448                                    5",
      "text/html": "<div>\n<style scoped>\n    .dataframe tbody tr th:only-of-type {\n        vertical-align: middle;\n    }\n\n    .dataframe tbody tr th {\n        vertical-align: top;\n    }\n\n    .dataframe thead th {\n        text-align: right;\n    }\n</style>\n<table border=\"1\" class=\"dataframe\">\n  <thead>\n    <tr style=\"text-align: right;\">\n      <th></th>\n      <th>id</th>\n      <th>Gender</th>\n      <th>Age</th>\n      <th>Height</th>\n      <th>Weight</th>\n      <th>family_history_with_overweight</th>\n      <th>High_Calorie_Freq</th>\n      <th>Vegetable_Freq</th>\n      <th>Main_Meals_No</th>\n      <th>Eat_Between_Meals</th>\n      <th>SMOKE</th>\n      <th>Water_Consumption</th>\n      <th>Physical_Activitiy_Freq</th>\n      <th>Time_Using_Devices</th>\n      <th>Alcohol_Consumption</th>\n      <th>Transportation_Used</th>\n      <th>NObeyesdad</th>\n      <th>BMI</th>\n      <th>Hydration_Ratio</th>\n      <th>Technology_Usage_Ratio</th>\n      <th>Alcohol_Consumption_Ratio</th>\n      <th>Transportation_Used_Ordinal_Encoded</th>\n    </tr>\n  </thead>\n  <tbody>\n    <tr>\n      <th>0</th>\n      <td>0</td>\n      <td>Male</td>\n      <td>24.443011</td>\n      <td>1.699998</td>\n      <td>81.669950</td>\n      <td>1</td>\n      <td>1</td>\n      <td>2.000000</td>\n      <td>2.983297</td>\n      <td>1.0</td>\n      <td>0</td>\n      <td>2.763573</td>\n      <td>0.000000</td>\n      <td>0.976473</td>\n      <td>1</td>\n      <td>Public_Transportation</td>\n      <td>Overweight_Level_II</td>\n      <td>28.259565</td>\n      <td>3.383831</td>\n      <td>3.994897</td>\n      <td>4.091149</td>\n      <td>5</td>\n    </tr>\n    <tr>\n      <th>1</th>\n      <td>1</td>\n      <td>Female</td>\n      <td>18.000000</td>\n      <td>1.560000</td>\n      <td>57.000000</td>\n      <td>1</td>\n      <td>1</td>\n      <td>2.000000</td>\n      <td>3.000000</td>\n      <td>2.0</td>\n      <td>0</td>\n      <td>2.000000</td>\n      <td>1.000000</td>\n      <td>1.000000</td>\n      <td>0</td>\n      <td>Automobile</td>\n      <td>Normal_Weight</td>\n      <td>23.422091</td>\n      <td>3.508772</td>\n      <td>5.555556</td>\n      <td>0.000000</td>\n      <td>4</td>\n    </tr>\n    <tr>\n      <th>2</th>\n      <td>2</td>\n      <td>Female</td>\n      <td>18.000000</td>\n      <td>1.711460</td>\n      <td>50.165754</td>\n      <td>1</td>\n      <td>1</td>\n      <td>1.880534</td>\n      <td>1.411685</td>\n      <td>1.0</td>\n      <td>0</td>\n      <td>1.910378</td>\n      <td>0.866045</td>\n      <td>1.673584</td>\n      <td>0</td>\n      <td>Public_Transportation</td>\n      <td>Insufficient_Weight</td>\n      <td>17.126706</td>\n      <td>3.808132</td>\n      <td>9.297689</td>\n      <td>0.000000</td>\n      <td>5</td>\n    </tr>\n    <tr>\n      <th>3</th>\n      <td>3</td>\n      <td>Female</td>\n      <td>20.952737</td>\n      <td>1.710730</td>\n      <td>131.274851</td>\n      <td>1</td>\n      <td>1</td>\n      <td>3.000000</td>\n      <td>3.000000</td>\n      <td>1.0</td>\n      <td>0</td>\n      <td>1.674061</td>\n      <td>1.467863</td>\n      <td>0.780199</td>\n      <td>1</td>\n      <td>Public_Transportation</td>\n      <td>Obesity_Type_III</td>\n      <td>44.855798</td>\n      <td>1.275234</td>\n      <td>3.723614</td>\n      <td>4.772646</td>\n      <td>5</td>\n    </tr>\n    <tr>\n      <th>4</th>\n      <td>4</td>\n      <td>Male</td>\n      <td>31.641081</td>\n      <td>1.914186</td>\n      <td>93.798055</td>\n      <td>1</td>\n      <td>1</td>\n      <td>2.679664</td>\n      <td>1.971472</td>\n      <td>1.0</td>\n      <td>0</td>\n      <td>1.979848</td>\n      <td>1.967973</td>\n      <td>0.931721</td>\n      <td>1</td>\n      <td>Public_Transportation</td>\n      <td>Overweight_Level_II</td>\n      <td>25.599151</td>\n      <td>2.110756</td>\n      <td>2.944656</td>\n      <td>3.160448</td>\n      <td>5</td>\n    </tr>\n  </tbody>\n</table>\n</div>"
     },
     "execution_count": 24,
     "metadata": {},
     "output_type": "execute_result"
    }
   ],
   "source": [
    "transportation_order = {'Walking': 1, 'Bike': 2, 'Motorbike': 3, 'Automobile': 4, 'Public_Transportation': 5}\n",
    "df_train['Transportation_Used_Ordinal_Encoded'] = df_train['Transportation_Used'].map(transportation_order)\n",
    "df_train.head()"
   ],
   "metadata": {
    "collapsed": false,
    "ExecuteTime": {
     "end_time": "2024-02-13T14:35:28.955927800Z",
     "start_time": "2024-02-13T14:35:28.912787500Z"
    }
   },
   "id": "104647892c9f9d5d",
   "execution_count": 24
  },
  {
   "cell_type": "code",
   "outputs": [
    {
     "data": {
      "text/plain": "   id  Gender        Age    Height      Weight  family_history_with_overweight  High_Calorie_Freq  Vegetable_Freq  Main_Meals_No  Eat_Between_Meals  SMOKE  Water_Consumption  Physical_Activitiy_Freq  Time_Using_Devices  Alcohol_Consumption           NObeyesdad        BMI  Hydration_Ratio  Technology_Usage_Ratio  Alcohol_Consumption_Ratio  Transportation_Used_Ordinal_Encoded\n0   0    Male  24.443011  1.699998   81.669950                               1                  1        2.000000       2.983297                1.0      0           2.763573                 0.000000            0.976473                    1  Overweight_Level_II  28.259565         3.383831                3.994897                   4.091149                                    5\n1   1  Female  18.000000  1.560000   57.000000                               1                  1        2.000000       3.000000                2.0      0           2.000000                 1.000000            1.000000                    0        Normal_Weight  23.422091         3.508772                5.555556                   0.000000                                    4\n2   2  Female  18.000000  1.711460   50.165754                               1                  1        1.880534       1.411685                1.0      0           1.910378                 0.866045            1.673584                    0  Insufficient_Weight  17.126706         3.808132                9.297689                   0.000000                                    5\n3   3  Female  20.952737  1.710730  131.274851                               1                  1        3.000000       3.000000                1.0      0           1.674061                 1.467863            0.780199                    1     Obesity_Type_III  44.855798         1.275234                3.723614                   4.772646                                    5\n4   4    Male  31.641081  1.914186   93.798055                               1                  1        2.679664       1.971472                1.0      0           1.979848                 1.967973            0.931721                    1  Overweight_Level_II  25.599151         2.110756                2.944656                   3.160448                                    5",
      "text/html": "<div>\n<style scoped>\n    .dataframe tbody tr th:only-of-type {\n        vertical-align: middle;\n    }\n\n    .dataframe tbody tr th {\n        vertical-align: top;\n    }\n\n    .dataframe thead th {\n        text-align: right;\n    }\n</style>\n<table border=\"1\" class=\"dataframe\">\n  <thead>\n    <tr style=\"text-align: right;\">\n      <th></th>\n      <th>id</th>\n      <th>Gender</th>\n      <th>Age</th>\n      <th>Height</th>\n      <th>Weight</th>\n      <th>family_history_with_overweight</th>\n      <th>High_Calorie_Freq</th>\n      <th>Vegetable_Freq</th>\n      <th>Main_Meals_No</th>\n      <th>Eat_Between_Meals</th>\n      <th>SMOKE</th>\n      <th>Water_Consumption</th>\n      <th>Physical_Activitiy_Freq</th>\n      <th>Time_Using_Devices</th>\n      <th>Alcohol_Consumption</th>\n      <th>NObeyesdad</th>\n      <th>BMI</th>\n      <th>Hydration_Ratio</th>\n      <th>Technology_Usage_Ratio</th>\n      <th>Alcohol_Consumption_Ratio</th>\n      <th>Transportation_Used_Ordinal_Encoded</th>\n    </tr>\n  </thead>\n  <tbody>\n    <tr>\n      <th>0</th>\n      <td>0</td>\n      <td>Male</td>\n      <td>24.443011</td>\n      <td>1.699998</td>\n      <td>81.669950</td>\n      <td>1</td>\n      <td>1</td>\n      <td>2.000000</td>\n      <td>2.983297</td>\n      <td>1.0</td>\n      <td>0</td>\n      <td>2.763573</td>\n      <td>0.000000</td>\n      <td>0.976473</td>\n      <td>1</td>\n      <td>Overweight_Level_II</td>\n      <td>28.259565</td>\n      <td>3.383831</td>\n      <td>3.994897</td>\n      <td>4.091149</td>\n      <td>5</td>\n    </tr>\n    <tr>\n      <th>1</th>\n      <td>1</td>\n      <td>Female</td>\n      <td>18.000000</td>\n      <td>1.560000</td>\n      <td>57.000000</td>\n      <td>1</td>\n      <td>1</td>\n      <td>2.000000</td>\n      <td>3.000000</td>\n      <td>2.0</td>\n      <td>0</td>\n      <td>2.000000</td>\n      <td>1.000000</td>\n      <td>1.000000</td>\n      <td>0</td>\n      <td>Normal_Weight</td>\n      <td>23.422091</td>\n      <td>3.508772</td>\n      <td>5.555556</td>\n      <td>0.000000</td>\n      <td>4</td>\n    </tr>\n    <tr>\n      <th>2</th>\n      <td>2</td>\n      <td>Female</td>\n      <td>18.000000</td>\n      <td>1.711460</td>\n      <td>50.165754</td>\n      <td>1</td>\n      <td>1</td>\n      <td>1.880534</td>\n      <td>1.411685</td>\n      <td>1.0</td>\n      <td>0</td>\n      <td>1.910378</td>\n      <td>0.866045</td>\n      <td>1.673584</td>\n      <td>0</td>\n      <td>Insufficient_Weight</td>\n      <td>17.126706</td>\n      <td>3.808132</td>\n      <td>9.297689</td>\n      <td>0.000000</td>\n      <td>5</td>\n    </tr>\n    <tr>\n      <th>3</th>\n      <td>3</td>\n      <td>Female</td>\n      <td>20.952737</td>\n      <td>1.710730</td>\n      <td>131.274851</td>\n      <td>1</td>\n      <td>1</td>\n      <td>3.000000</td>\n      <td>3.000000</td>\n      <td>1.0</td>\n      <td>0</td>\n      <td>1.674061</td>\n      <td>1.467863</td>\n      <td>0.780199</td>\n      <td>1</td>\n      <td>Obesity_Type_III</td>\n      <td>44.855798</td>\n      <td>1.275234</td>\n      <td>3.723614</td>\n      <td>4.772646</td>\n      <td>5</td>\n    </tr>\n    <tr>\n      <th>4</th>\n      <td>4</td>\n      <td>Male</td>\n      <td>31.641081</td>\n      <td>1.914186</td>\n      <td>93.798055</td>\n      <td>1</td>\n      <td>1</td>\n      <td>2.679664</td>\n      <td>1.971472</td>\n      <td>1.0</td>\n      <td>0</td>\n      <td>1.979848</td>\n      <td>1.967973</td>\n      <td>0.931721</td>\n      <td>1</td>\n      <td>Overweight_Level_II</td>\n      <td>25.599151</td>\n      <td>2.110756</td>\n      <td>2.944656</td>\n      <td>3.160448</td>\n      <td>5</td>\n    </tr>\n  </tbody>\n</table>\n</div>"
     },
     "execution_count": 25,
     "metadata": {},
     "output_type": "execute_result"
    }
   ],
   "source": [
    "df_train = df_train.drop('Transportation_Used', axis=1)\n",
    "df_train.head()"
   ],
   "metadata": {
    "collapsed": false,
    "ExecuteTime": {
     "end_time": "2024-02-13T14:35:36.102177500Z",
     "start_time": "2024-02-13T14:35:36.063690200Z"
    }
   },
   "id": "5e110835cea5ff59",
   "execution_count": 25
  },
  {
   "cell_type": "code",
   "outputs": [
    {
     "data": {
      "text/plain": "   id        Age    Height      Weight  family_history_with_overweight  High_Calorie_Freq  Vegetable_Freq  Main_Meals_No  Eat_Between_Meals  SMOKE  Water_Consumption  Physical_Activitiy_Freq  Time_Using_Devices  Alcohol_Consumption           NObeyesdad        BMI  Hydration_Ratio  Technology_Usage_Ratio  Alcohol_Consumption_Ratio  Transportation_Used_Ordinal_Encoded  Gender_Binary\n0   0  24.443011  1.699998   81.669950                               1                  1        2.000000       2.983297                1.0      0           2.763573                 0.000000            0.976473                    1  Overweight_Level_II  28.259565         3.383831                3.994897                   4.091149                                    5              0\n1   1  18.000000  1.560000   57.000000                               1                  1        2.000000       3.000000                2.0      0           2.000000                 1.000000            1.000000                    0        Normal_Weight  23.422091         3.508772                5.555556                   0.000000                                    4              1\n2   2  18.000000  1.711460   50.165754                               1                  1        1.880534       1.411685                1.0      0           1.910378                 0.866045            1.673584                    0  Insufficient_Weight  17.126706         3.808132                9.297689                   0.000000                                    5              1\n3   3  20.952737  1.710730  131.274851                               1                  1        3.000000       3.000000                1.0      0           1.674061                 1.467863            0.780199                    1     Obesity_Type_III  44.855798         1.275234                3.723614                   4.772646                                    5              1\n4   4  31.641081  1.914186   93.798055                               1                  1        2.679664       1.971472                1.0      0           1.979848                 1.967973            0.931721                    1  Overweight_Level_II  25.599151         2.110756                2.944656                   3.160448                                    5              0",
      "text/html": "<div>\n<style scoped>\n    .dataframe tbody tr th:only-of-type {\n        vertical-align: middle;\n    }\n\n    .dataframe tbody tr th {\n        vertical-align: top;\n    }\n\n    .dataframe thead th {\n        text-align: right;\n    }\n</style>\n<table border=\"1\" class=\"dataframe\">\n  <thead>\n    <tr style=\"text-align: right;\">\n      <th></th>\n      <th>id</th>\n      <th>Age</th>\n      <th>Height</th>\n      <th>Weight</th>\n      <th>family_history_with_overweight</th>\n      <th>High_Calorie_Freq</th>\n      <th>Vegetable_Freq</th>\n      <th>Main_Meals_No</th>\n      <th>Eat_Between_Meals</th>\n      <th>SMOKE</th>\n      <th>Water_Consumption</th>\n      <th>Physical_Activitiy_Freq</th>\n      <th>Time_Using_Devices</th>\n      <th>Alcohol_Consumption</th>\n      <th>NObeyesdad</th>\n      <th>BMI</th>\n      <th>Hydration_Ratio</th>\n      <th>Technology_Usage_Ratio</th>\n      <th>Alcohol_Consumption_Ratio</th>\n      <th>Transportation_Used_Ordinal_Encoded</th>\n      <th>Gender_Binary</th>\n    </tr>\n  </thead>\n  <tbody>\n    <tr>\n      <th>0</th>\n      <td>0</td>\n      <td>24.443011</td>\n      <td>1.699998</td>\n      <td>81.669950</td>\n      <td>1</td>\n      <td>1</td>\n      <td>2.000000</td>\n      <td>2.983297</td>\n      <td>1.0</td>\n      <td>0</td>\n      <td>2.763573</td>\n      <td>0.000000</td>\n      <td>0.976473</td>\n      <td>1</td>\n      <td>Overweight_Level_II</td>\n      <td>28.259565</td>\n      <td>3.383831</td>\n      <td>3.994897</td>\n      <td>4.091149</td>\n      <td>5</td>\n      <td>0</td>\n    </tr>\n    <tr>\n      <th>1</th>\n      <td>1</td>\n      <td>18.000000</td>\n      <td>1.560000</td>\n      <td>57.000000</td>\n      <td>1</td>\n      <td>1</td>\n      <td>2.000000</td>\n      <td>3.000000</td>\n      <td>2.0</td>\n      <td>0</td>\n      <td>2.000000</td>\n      <td>1.000000</td>\n      <td>1.000000</td>\n      <td>0</td>\n      <td>Normal_Weight</td>\n      <td>23.422091</td>\n      <td>3.508772</td>\n      <td>5.555556</td>\n      <td>0.000000</td>\n      <td>4</td>\n      <td>1</td>\n    </tr>\n    <tr>\n      <th>2</th>\n      <td>2</td>\n      <td>18.000000</td>\n      <td>1.711460</td>\n      <td>50.165754</td>\n      <td>1</td>\n      <td>1</td>\n      <td>1.880534</td>\n      <td>1.411685</td>\n      <td>1.0</td>\n      <td>0</td>\n      <td>1.910378</td>\n      <td>0.866045</td>\n      <td>1.673584</td>\n      <td>0</td>\n      <td>Insufficient_Weight</td>\n      <td>17.126706</td>\n      <td>3.808132</td>\n      <td>9.297689</td>\n      <td>0.000000</td>\n      <td>5</td>\n      <td>1</td>\n    </tr>\n    <tr>\n      <th>3</th>\n      <td>3</td>\n      <td>20.952737</td>\n      <td>1.710730</td>\n      <td>131.274851</td>\n      <td>1</td>\n      <td>1</td>\n      <td>3.000000</td>\n      <td>3.000000</td>\n      <td>1.0</td>\n      <td>0</td>\n      <td>1.674061</td>\n      <td>1.467863</td>\n      <td>0.780199</td>\n      <td>1</td>\n      <td>Obesity_Type_III</td>\n      <td>44.855798</td>\n      <td>1.275234</td>\n      <td>3.723614</td>\n      <td>4.772646</td>\n      <td>5</td>\n      <td>1</td>\n    </tr>\n    <tr>\n      <th>4</th>\n      <td>4</td>\n      <td>31.641081</td>\n      <td>1.914186</td>\n      <td>93.798055</td>\n      <td>1</td>\n      <td>1</td>\n      <td>2.679664</td>\n      <td>1.971472</td>\n      <td>1.0</td>\n      <td>0</td>\n      <td>1.979848</td>\n      <td>1.967973</td>\n      <td>0.931721</td>\n      <td>1</td>\n      <td>Overweight_Level_II</td>\n      <td>25.599151</td>\n      <td>2.110756</td>\n      <td>2.944656</td>\n      <td>3.160448</td>\n      <td>5</td>\n      <td>0</td>\n    </tr>\n  </tbody>\n</table>\n</div>"
     },
     "execution_count": 26,
     "metadata": {},
     "output_type": "execute_result"
    }
   ],
   "source": [
    "df_train['Gender_Binary'] = df_train['Gender'].map({'Male': 0, 'Female': 1})\n",
    "df_train = df_train.drop('Gender', axis=1)\n",
    "df_train.head()"
   ],
   "metadata": {
    "collapsed": false,
    "ExecuteTime": {
     "end_time": "2024-02-13T14:35:43.024919700Z",
     "start_time": "2024-02-13T14:35:42.991037500Z"
    }
   },
   "id": "7c0f82a8f28dc4aa",
   "execution_count": 26
  },
  {
   "cell_type": "code",
   "outputs": [],
   "source": [
    "x = df_train.drop('NObeyesdad', axis=1)  # Features (all columns except 'NObeyesdad')\n",
    "y = df_train['NObeyesdad']  # Target variable"
   ],
   "metadata": {
    "collapsed": false,
    "ExecuteTime": {
     "end_time": "2024-02-13T14:42:43.691591800Z",
     "start_time": "2024-02-13T14:42:43.669558300Z"
    }
   },
   "id": "f0a18409bf5e53c7",
   "execution_count": 27
  },
  {
   "cell_type": "code",
   "outputs": [],
   "source": [
    "from sklearn.preprocessing import LabelEncoder , StandardScaler\n",
    "from sklearn.model_selection import train_test_split\n",
    "le=LabelEncoder()\n",
    "sc=StandardScaler()"
   ],
   "metadata": {
    "collapsed": false,
    "ExecuteTime": {
     "end_time": "2024-02-13T14:43:00.092302Z",
     "start_time": "2024-02-13T14:42:59.232679600Z"
    }
   },
   "id": "84bb006a314cd431",
   "execution_count": 28
  },
  {
   "cell_type": "code",
   "outputs": [],
   "source": [
    "y=le.fit_transform(y)"
   ],
   "metadata": {
    "collapsed": false,
    "ExecuteTime": {
     "end_time": "2024-02-13T14:43:17.191025500Z",
     "start_time": "2024-02-13T14:43:17.166118900Z"
    }
   },
   "id": "e820e2fbe257095c",
   "execution_count": 29
  },
  {
   "cell_type": "code",
   "outputs": [],
   "source": [
    "X_train, X_val, y_train, y_val = train_test_split(x, y, test_size=0.3, random_state=42)"
   ],
   "metadata": {
    "collapsed": false,
    "ExecuteTime": {
     "end_time": "2024-02-13T14:43:27.268968600Z",
     "start_time": "2024-02-13T14:43:27.255950200Z"
    }
   },
   "id": "8624cb81b9c153f5",
   "execution_count": 30
  },
  {
   "cell_type": "code",
   "outputs": [
    {
     "name": "stdout",
     "output_type": "stream",
     "text": [
      "Accuracy: 0.9004495825305073\n"
     ]
    }
   ],
   "source": [
    "import xgboost as xgb\n",
    "from sklearn.metrics import accuracy_score\n",
    "# Set random hyperparameters\n",
    "params = {\n",
    "    'max_depth': 10,\n",
    "    'learning_rate': 0.01,\n",
    "    'n_estimators': 400,\n",
    "    'subsample': 0.5,\n",
    "    'colsample_bytree': 0.5,\n",
    "    'gamma': 0,\n",
    "    'random_state': 42\n",
    "}\n",
    "\n",
    "# Initialize XGBClassifier\n",
    "model = xgb.XGBClassifier(**params, objective='multi:softmax', num_class=7) \n",
    "model.fit(X_train, y_train)\n",
    "\n",
    "# Make predictions\n",
    "y_pred = model.predict(X_val)\n",
    "\n",
    "# Evaluate accuracy\n",
    "accuracy = accuracy_score(y_val, y_pred)\n",
    "print(\"Accuracy:\", accuracy)"
   ],
   "metadata": {
    "collapsed": false,
    "ExecuteTime": {
     "end_time": "2024-02-13T14:48:36.968805700Z",
     "start_time": "2024-02-13T14:48:27.783197500Z"
    }
   },
   "id": "e738bd30b013262e",
   "execution_count": 42
  },
  {
   "cell_type": "code",
   "outputs": [
    {
     "data": {
      "text/plain": "      id  Gender        Age    Height      Weight family_history_with_overweight FAVC      FCVC       NCP       CAEC SMOKE      CH2O SCC       FAF       TUE       CALC                 MTRANS\n0  20758    Male  26.899886  1.848294  120.644178                            yes  yes  2.938616  3.000000  Sometimes    no  2.825629  no  0.855400  0.000000  Sometimes  Public_Transportation\n1  20759  Female  21.000000  1.600000   66.000000                            yes  yes  2.000000  1.000000  Sometimes    no  3.000000  no  1.000000  0.000000  Sometimes  Public_Transportation\n2  20760  Female  26.000000  1.643355  111.600553                            yes  yes  3.000000  3.000000  Sometimes    no  2.621877  no  0.000000  0.250502  Sometimes  Public_Transportation\n3  20761    Male  20.979254  1.553127  103.669116                            yes  yes  2.000000  2.977909  Sometimes    no  2.786417  no  0.094851  0.000000  Sometimes  Public_Transportation\n4  20762  Female  26.000000  1.627396  104.835346                            yes  yes  3.000000  3.000000  Sometimes    no  2.653531  no  0.000000  0.741069  Sometimes  Public_Transportation",
      "text/html": "<div>\n<style scoped>\n    .dataframe tbody tr th:only-of-type {\n        vertical-align: middle;\n    }\n\n    .dataframe tbody tr th {\n        vertical-align: top;\n    }\n\n    .dataframe thead th {\n        text-align: right;\n    }\n</style>\n<table border=\"1\" class=\"dataframe\">\n  <thead>\n    <tr style=\"text-align: right;\">\n      <th></th>\n      <th>id</th>\n      <th>Gender</th>\n      <th>Age</th>\n      <th>Height</th>\n      <th>Weight</th>\n      <th>family_history_with_overweight</th>\n      <th>FAVC</th>\n      <th>FCVC</th>\n      <th>NCP</th>\n      <th>CAEC</th>\n      <th>SMOKE</th>\n      <th>CH2O</th>\n      <th>SCC</th>\n      <th>FAF</th>\n      <th>TUE</th>\n      <th>CALC</th>\n      <th>MTRANS</th>\n    </tr>\n  </thead>\n  <tbody>\n    <tr>\n      <th>0</th>\n      <td>20758</td>\n      <td>Male</td>\n      <td>26.899886</td>\n      <td>1.848294</td>\n      <td>120.644178</td>\n      <td>yes</td>\n      <td>yes</td>\n      <td>2.938616</td>\n      <td>3.000000</td>\n      <td>Sometimes</td>\n      <td>no</td>\n      <td>2.825629</td>\n      <td>no</td>\n      <td>0.855400</td>\n      <td>0.000000</td>\n      <td>Sometimes</td>\n      <td>Public_Transportation</td>\n    </tr>\n    <tr>\n      <th>1</th>\n      <td>20759</td>\n      <td>Female</td>\n      <td>21.000000</td>\n      <td>1.600000</td>\n      <td>66.000000</td>\n      <td>yes</td>\n      <td>yes</td>\n      <td>2.000000</td>\n      <td>1.000000</td>\n      <td>Sometimes</td>\n      <td>no</td>\n      <td>3.000000</td>\n      <td>no</td>\n      <td>1.000000</td>\n      <td>0.000000</td>\n      <td>Sometimes</td>\n      <td>Public_Transportation</td>\n    </tr>\n    <tr>\n      <th>2</th>\n      <td>20760</td>\n      <td>Female</td>\n      <td>26.000000</td>\n      <td>1.643355</td>\n      <td>111.600553</td>\n      <td>yes</td>\n      <td>yes</td>\n      <td>3.000000</td>\n      <td>3.000000</td>\n      <td>Sometimes</td>\n      <td>no</td>\n      <td>2.621877</td>\n      <td>no</td>\n      <td>0.000000</td>\n      <td>0.250502</td>\n      <td>Sometimes</td>\n      <td>Public_Transportation</td>\n    </tr>\n    <tr>\n      <th>3</th>\n      <td>20761</td>\n      <td>Male</td>\n      <td>20.979254</td>\n      <td>1.553127</td>\n      <td>103.669116</td>\n      <td>yes</td>\n      <td>yes</td>\n      <td>2.000000</td>\n      <td>2.977909</td>\n      <td>Sometimes</td>\n      <td>no</td>\n      <td>2.786417</td>\n      <td>no</td>\n      <td>0.094851</td>\n      <td>0.000000</td>\n      <td>Sometimes</td>\n      <td>Public_Transportation</td>\n    </tr>\n    <tr>\n      <th>4</th>\n      <td>20762</td>\n      <td>Female</td>\n      <td>26.000000</td>\n      <td>1.627396</td>\n      <td>104.835346</td>\n      <td>yes</td>\n      <td>yes</td>\n      <td>3.000000</td>\n      <td>3.000000</td>\n      <td>Sometimes</td>\n      <td>no</td>\n      <td>2.653531</td>\n      <td>no</td>\n      <td>0.000000</td>\n      <td>0.741069</td>\n      <td>Sometimes</td>\n      <td>Public_Transportation</td>\n    </tr>\n  </tbody>\n</table>\n</div>"
     },
     "execution_count": 44,
     "metadata": {},
     "output_type": "execute_result"
    }
   ],
   "source": [
    "df_test.head()"
   ],
   "metadata": {
    "collapsed": false,
    "ExecuteTime": {
     "end_time": "2024-02-13T14:50:34.093023100Z",
     "start_time": "2024-02-13T14:50:34.061092900Z"
    }
   },
   "id": "a7a501e112c848c9",
   "execution_count": 44
  },
  {
   "cell_type": "code",
   "outputs": [],
   "source": [
    "ids=df_test['id']"
   ],
   "metadata": {
    "collapsed": false,
    "ExecuteTime": {
     "end_time": "2024-02-13T14:51:01.779916300Z",
     "start_time": "2024-02-13T14:51:01.766061200Z"
    }
   },
   "id": "73b2e78e06cee109",
   "execution_count": 46
  },
  {
   "cell_type": "code",
   "outputs": [],
   "source": [
    "df_test=df_test.drop('id',axis=1)"
   ],
   "metadata": {
    "collapsed": false,
    "ExecuteTime": {
     "end_time": "2024-02-13T14:51:15.518954600Z",
     "start_time": "2024-02-13T14:51:15.504583400Z"
    }
   },
   "id": "393b73b224662e79",
   "execution_count": 47
  },
  {
   "cell_type": "code",
   "outputs": [],
   "source": [],
   "metadata": {
    "collapsed": false,
    "ExecuteTime": {
     "end_time": "2024-02-13T14:53:13.045020Z",
     "start_time": "2024-02-13T14:53:13.020426Z"
    }
   },
   "id": "202955c239a2185a",
   "execution_count": 48
  },
  {
   "cell_type": "code",
   "outputs": [],
   "source": [],
   "metadata": {
    "collapsed": false
   },
   "id": "3d5b5fbcffb44860"
  }
 ],
 "metadata": {
  "kernelspec": {
   "display_name": "Python 3",
   "language": "python",
   "name": "python3"
  },
  "language_info": {
   "codemirror_mode": {
    "name": "ipython",
    "version": 2
   },
   "file_extension": ".py",
   "mimetype": "text/x-python",
   "name": "python",
   "nbconvert_exporter": "python",
   "pygments_lexer": "ipython2",
   "version": "2.7.6"
  }
 },
 "nbformat": 4,
 "nbformat_minor": 5
}
